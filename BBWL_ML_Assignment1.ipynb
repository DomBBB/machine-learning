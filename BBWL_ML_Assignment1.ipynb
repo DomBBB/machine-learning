{
 "cells": [
  {
   "cell_type": "markdown",
   "metadata": {
    "id": "doryHA0LOoZC"
   },
   "source": [
    "# Coding Assignment 1: Image Classification with Traditional Machine Learning Methods\n",
    "\n",
    "Machine Learning (BBWL), University of St. Gallen, Spring Term 2022, Michael Mommert"
   ]
  },
  {
   "cell_type": "markdown",
   "metadata": {
    "id": "JNvASginOoZH"
   },
   "source": [
    "# Technicalities\n",
    "\n",
    "This Jupyter Notebook contains your first MLBBWL coding assignment. Please work on this assignment in groups of ~5 students. The names of all students, who work in one team on this specific assignment, must be listed below. Please note that assignment groups cannot change in the course of the semester.\n",
    "\n",
    "This assigment must be submitted via email to [aiml-teaching.ics@unisg.ch](aiml-teaching.ics@unisg.ch) (subject line: MLBBWL coding assignment 1) by **April 15, 23:59** at the latest.\n",
    "\n",
    "Also, the results from this notebook must be presented at the final presentation on May 25. Students should be able to answer questions on design decisions in this Notebook and the underlying methods. Each student must be able to answer questions to either of the two assignments, but not necessarily both, which means that it is perfectly fine to split each group into an assignment-1 subgroup and an assignment-2 subgroup.\n",
    "\n",
    "# Grading\n",
    "\n",
    "The grading of both coding assignments is done based on the following criteria:\n",
    "* **Code and Method implementation and documentation** (clean and well-structured code and Notebook, inline documentation where useful, markdown text, plots where useful, analysis of results)\n",
    "* **ML approach novelty** (does the approach go beyond what we did in the lab?)\n",
    "* **ML approach Q&A** (can the students who worked on the traditional ML approach explain their code, design ideas, issues etc.)\n",
    "* **DL approach novelty** (does the approach go beyond what we did in the lab?)\n",
    "* **DL approach Q&A** (can the students who worked on the DL approach explain their code, design ideas, issues etc.)\n",
    "* **Presentation quality** (are the slides complete and understandable?)"
   ]
  },
  {
   "cell_type": "markdown",
   "metadata": {
    "id": "PQo-K5YPOoZJ"
   },
   "source": [
    "\n",
    "# Task Description\n",
    "\n",
    "The goal of this assignment is to write code that performs well on the task of **image classification based on the CiFAR-10 data set**.\n",
    "\n",
    "The CiFAR-10 data set consists of 50,000 training images, each 32x32 color images, that fall into one out of 10 classes. In addition, an independent test data set of 10,000 image is available on which the model will be evaluated. The model will be evaluated based on the **accuracy** metric based on the **test** data set.\n",
    "\n",
    "<table cellspacing=\"0\" cellpadding=\"0\">\n",
    "    <tr>\n",
    "        <td class=\"cifar-class-name\">airplane</td>\n",
    "        <td><img src=\"https://www.cs.toronto.edu/~kriz/cifar-10-sample/airplane1.png\" class=\"cifar-sample\" /></td>\n",
    "        <td><img src=\"https://www.cs.toronto.edu/~kriz/cifar-10-sample/airplane2.png\" class=\"cifar-sample\" /></td>\n",
    "        <td><img src=\"https://www.cs.toronto.edu/~kriz/cifar-10-sample/airplane3.png\" class=\"cifar-sample\" /></td>\n",
    "        <td><img src=\"https://www.cs.toronto.edu/~kriz/cifar-10-sample/airplane4.png\" class=\"cifar-sample\" /></td>\n",
    "        <td><img src=\"https://www.cs.toronto.edu/~kriz/cifar-10-sample/airplane5.png\" class=\"cifar-sample\" /></td>\n",
    "        <td><img src=\"https://www.cs.toronto.edu/~kriz/cifar-10-sample/airplane6.png\" class=\"cifar-sample\" /></td>\n",
    "        <td><img src=\"https://www.cs.toronto.edu/~kriz/cifar-10-sample/airplane7.png\" class=\"cifar-sample\" /></td>\n",
    "        <td><img src=\"https://www.cs.toronto.edu/~kriz/cifar-10-sample/airplane8.png\" class=\"cifar-sample\" /></td>\n",
    "        <td><img src=\"https://www.cs.toronto.edu/~kriz/cifar-10-sample/airplane9.png\" class=\"cifar-sample\" /></td>\n",
    "        <td><img src=\"https://www.cs.toronto.edu/~kriz/cifar-10-sample/airplane10.png\" class=\"cifar-sample\" /></td>\n",
    "    </tr>\n",
    "    <tr>\n",
    "        <td class=\"cifar-class-name\">automobile</td>\n",
    "        <td><img src=\"https://www.cs.toronto.edu/~kriz/cifar-10-sample/automobile1.png\" class=\"cifar-sample\" /></td>\n",
    "        <td><img src=\"https://www.cs.toronto.edu/~kriz/cifar-10-sample/automobile2.png\" class=\"cifar-sample\" /></td>\n",
    "        <td><img src=\"https://www.cs.toronto.edu/~kriz/cifar-10-sample/automobile3.png\" class=\"cifar-sample\" /></td>\n",
    "        <td><img src=\"https://www.cs.toronto.edu/~kriz/cifar-10-sample/automobile4.png\" class=\"cifar-sample\" /></td>\n",
    "        <td><img src=\"https://www.cs.toronto.edu/~kriz/cifar-10-sample/automobile5.png\" class=\"cifar-sample\" /></td>\n",
    "        <td><img src=\"https://www.cs.toronto.edu/~kriz/cifar-10-sample/automobile6.png\" class=\"cifar-sample\" /></td>\n",
    "        <td><img src=\"https://www.cs.toronto.edu/~kriz/cifar-10-sample/automobile7.png\" class=\"cifar-sample\" /></td>\n",
    "        <td><img src=\"https://www.cs.toronto.edu/~kriz/cifar-10-sample/automobile8.png\" class=\"cifar-sample\" /></td>\n",
    "        <td><img src=\"https://www.cs.toronto.edu/~kriz/cifar-10-sample/automobile9.png\" class=\"cifar-sample\" /></td>\n",
    "        <td><img src=\"https://www.cs.toronto.edu/~kriz/cifar-10-sample/automobile10.png\" class=\"cifar-sample\" /></td>\n",
    "    </tr>\n",
    "    <tr>\n",
    "        <td class=\"cifar-class-name\">bird</td>\n",
    "        <td><img src=\"https://www.cs.toronto.edu/~kriz/cifar-10-sample/bird1.png\" class=\"cifar-sample\" /></td>\n",
    "        <td><img src=\"https://www.cs.toronto.edu/~kriz/cifar-10-sample/bird2.png\" class=\"cifar-sample\" /></td>\n",
    "        <td><img src=\"https://www.cs.toronto.edu/~kriz/cifar-10-sample/bird3.png\" class=\"cifar-sample\" /></td>\n",
    "        <td><img src=\"https://www.cs.toronto.edu/~kriz/cifar-10-sample/bird4.png\" class=\"cifar-sample\" /></td>\n",
    "        <td><img src=\"https://www.cs.toronto.edu/~kriz/cifar-10-sample/bird5.png\" class=\"cifar-sample\" /></td>\n",
    "        <td><img src=\"https://www.cs.toronto.edu/~kriz/cifar-10-sample/bird6.png\" class=\"cifar-sample\" /></td>\n",
    "        <td><img src=\"https://www.cs.toronto.edu/~kriz/cifar-10-sample/bird7.png\" class=\"cifar-sample\" /></td>\n",
    "        <td><img src=\"https://www.cs.toronto.edu/~kriz/cifar-10-sample/bird8.png\" class=\"cifar-sample\" /></td>\n",
    "        <td><img src=\"https://www.cs.toronto.edu/~kriz/cifar-10-sample/bird9.png\" class=\"cifar-sample\" /></td>\n",
    "        <td><img src=\"https://www.cs.toronto.edu/~kriz/cifar-10-sample/bird10.png\" class=\"cifar-sample\" /></td>\n",
    "    </tr>\n",
    "    <tr>\n",
    "        <td class=\"cifar-class-name\">cat</td>\n",
    "        <td><img src=\"https://www.cs.toronto.edu/~kriz/cifar-10-sample/cat1.png\" class=\"cifar-sample\" /></td>\n",
    "        <td><img src=\"https://www.cs.toronto.edu/~kriz/cifar-10-sample/cat2.png\" class=\"cifar-sample\" /></td>\n",
    "        <td><img src=\"https://www.cs.toronto.edu/~kriz/cifar-10-sample/cat3.png\" class=\"cifar-sample\" /></td>\n",
    "        <td><img src=\"https://www.cs.toronto.edu/~kriz/cifar-10-sample/cat4.png\" class=\"cifar-sample\" /></td>\n",
    "        <td><img src=\"https://www.cs.toronto.edu/~kriz/cifar-10-sample/cat5.png\" class=\"cifar-sample\" /></td>\n",
    "        <td><img src=\"https://www.cs.toronto.edu/~kriz/cifar-10-sample/cat6.png\" class=\"cifar-sample\" /></td>\n",
    "        <td><img src=\"https://www.cs.toronto.edu/~kriz/cifar-10-sample/cat7.png\" class=\"cifar-sample\" /></td>\n",
    "        <td><img src=\"https://www.cs.toronto.edu/~kriz/cifar-10-sample/cat8.png\" class=\"cifar-sample\" /></td>\n",
    "        <td><img src=\"https://www.cs.toronto.edu/~kriz/cifar-10-sample/cat9.png\" class=\"cifar-sample\" /></td>\n",
    "        <td><img src=\"https://www.cs.toronto.edu/~kriz/cifar-10-sample/cat10.png\" class=\"cifar-sample\" /></td>\n",
    "    </tr>\n",
    "    <tr>\n",
    "        <td class=\"cifar-class-name\">deer</td>\n",
    "        <td><img src=\"https://www.cs.toronto.edu/~kriz/cifar-10-sample/deer1.png\" class=\"cifar-sample\" /></td>\n",
    "        <td><img src=\"https://www.cs.toronto.edu/~kriz/cifar-10-sample/deer2.png\" class=\"cifar-sample\" /></td>\n",
    "        <td><img src=\"https://www.cs.toronto.edu/~kriz/cifar-10-sample/deer3.png\" class=\"cifar-sample\" /></td>\n",
    "        <td><img src=\"https://www.cs.toronto.edu/~kriz/cifar-10-sample/deer4.png\" class=\"cifar-sample\" /></td>\n",
    "        <td><img src=\"https://www.cs.toronto.edu/~kriz/cifar-10-sample/deer5.png\" class=\"cifar-sample\" /></td>\n",
    "        <td><img src=\"https://www.cs.toronto.edu/~kriz/cifar-10-sample/deer6.png\" class=\"cifar-sample\" /></td>\n",
    "        <td><img src=\"https://www.cs.toronto.edu/~kriz/cifar-10-sample/deer7.png\" class=\"cifar-sample\" /></td>\n",
    "        <td><img src=\"https://www.cs.toronto.edu/~kriz/cifar-10-sample/deer8.png\" class=\"cifar-sample\" /></td>\n",
    "        <td><img src=\"https://www.cs.toronto.edu/~kriz/cifar-10-sample/deer9.png\" class=\"cifar-sample\" /></td>\n",
    "        <td><img src=\"https://www.cs.toronto.edu/~kriz/cifar-10-sample/deer10.png\" class=\"cifar-sample\" /></td>\n",
    "    </tr>\n",
    "    <tr>\n",
    "        <td class=\"cifar-class-name\">dog</td>\n",
    "        <td><img src=\"https://www.cs.toronto.edu/~kriz/cifar-10-sample/dog1.png\" class=\"cifar-sample\" /></td>\n",
    "        <td><img src=\"https://www.cs.toronto.edu/~kriz/cifar-10-sample/dog2.png\" class=\"cifar-sample\" /></td>\n",
    "        <td><img src=\"https://www.cs.toronto.edu/~kriz/cifar-10-sample/dog3.png\" class=\"cifar-sample\" /></td>\n",
    "        <td><img src=\"https://www.cs.toronto.edu/~kriz/cifar-10-sample/dog4.png\" class=\"cifar-sample\" /></td>\n",
    "        <td><img src=\"https://www.cs.toronto.edu/~kriz/cifar-10-sample/dog5.png\" class=\"cifar-sample\" /></td>\n",
    "        <td><img src=\"https://www.cs.toronto.edu/~kriz/cifar-10-sample/dog6.png\" class=\"cifar-sample\" /></td>\n",
    "        <td><img src=\"https://www.cs.toronto.edu/~kriz/cifar-10-sample/dog7.png\" class=\"cifar-sample\" /></td>\n",
    "        <td><img src=\"https://www.cs.toronto.edu/~kriz/cifar-10-sample/dog8.png\" class=\"cifar-sample\" /></td>\n",
    "        <td><img src=\"https://www.cs.toronto.edu/~kriz/cifar-10-sample/dog9.png\" class=\"cifar-sample\" /></td>\n",
    "        <td><img src=\"https://www.cs.toronto.edu/~kriz/cifar-10-sample/dog10.png\" class=\"cifar-sample\" /></td>\n",
    "    </tr>\n",
    "    <tr>\n",
    "        <td class=\"cifar-class-name\">frog</td>\n",
    "        <td><img src=\"https://www.cs.toronto.edu/~kriz/cifar-10-sample/frog1.png\" class=\"cifar-sample\" /></td>\n",
    "        <td><img src=\"https://www.cs.toronto.edu/~kriz/cifar-10-sample/frog2.png\" class=\"cifar-sample\" /></td>\n",
    "        <td><img src=\"https://www.cs.toronto.edu/~kriz/cifar-10-sample/frog3.png\" class=\"cifar-sample\" /></td>\n",
    "        <td><img src=\"https://www.cs.toronto.edu/~kriz/cifar-10-sample/frog4.png\" class=\"cifar-sample\" /></td>\n",
    "        <td><img src=\"https://www.cs.toronto.edu/~kriz/cifar-10-sample/frog5.png\" class=\"cifar-sample\" /></td>\n",
    "        <td><img src=\"https://www.cs.toronto.edu/~kriz/cifar-10-sample/frog6.png\" class=\"cifar-sample\" /></td>\n",
    "        <td><img src=\"https://www.cs.toronto.edu/~kriz/cifar-10-sample/frog7.png\" class=\"cifar-sample\" /></td>\n",
    "        <td><img src=\"https://www.cs.toronto.edu/~kriz/cifar-10-sample/frog8.png\" class=\"cifar-sample\" /></td>\n",
    "        <td><img src=\"https://www.cs.toronto.edu/~kriz/cifar-10-sample/frog9.png\" class=\"cifar-sample\" /></td>\n",
    "        <td><img src=\"https://www.cs.toronto.edu/~kriz/cifar-10-sample/frog10.png\" class=\"cifar-sample\" /></td>\n",
    "    </tr>\n",
    "    <tr>\n",
    "        <td class=\"cifar-class-name\">horse</td>\n",
    "        <td><img src=\"https://www.cs.toronto.edu/~kriz/cifar-10-sample/horse1.png\" class=\"cifar-sample\" /></td>\n",
    "        <td><img src=\"https://www.cs.toronto.edu/~kriz/cifar-10-sample/horse2.png\" class=\"cifar-sample\" /></td>\n",
    "        <td><img src=\"https://www.cs.toronto.edu/~kriz/cifar-10-sample/horse3.png\" class=\"cifar-sample\" /></td>\n",
    "        <td><img src=\"https://www.cs.toronto.edu/~kriz/cifar-10-sample/horse4.png\" class=\"cifar-sample\" /></td>\n",
    "        <td><img src=\"https://www.cs.toronto.edu/~kriz/cifar-10-sample/horse5.png\" class=\"cifar-sample\" /></td>\n",
    "        <td><img src=\"https://www.cs.toronto.edu/~kriz/cifar-10-sample/horse6.png\" class=\"cifar-sample\" /></td>\n",
    "        <td><img src=\"https://www.cs.toronto.edu/~kriz/cifar-10-sample/horse7.png\" class=\"cifar-sample\" /></td>\n",
    "        <td><img src=\"https://www.cs.toronto.edu/~kriz/cifar-10-sample/horse8.png\" class=\"cifar-sample\" /></td>\n",
    "        <td><img src=\"https://www.cs.toronto.edu/~kriz/cifar-10-sample/horse9.png\" class=\"cifar-sample\" /></td>\n",
    "        <td><img src=\"https://www.cs.toronto.edu/~kriz/cifar-10-sample/horse10.png\" class=\"cifar-sample\" /></td>\n",
    "    </tr>\n",
    "    <tr>\n",
    "        <td class=\"cifar-class-name\">ship</td>\n",
    "        <td><img src=\"https://www.cs.toronto.edu/~kriz/cifar-10-sample/ship1.png\" class=\"cifar-sample\" /></td>\n",
    "        <td><img src=\"https://www.cs.toronto.edu/~kriz/cifar-10-sample/ship2.png\" class=\"cifar-sample\" /></td>\n",
    "        <td><img src=\"https://www.cs.toronto.edu/~kriz/cifar-10-sample/ship3.png\" class=\"cifar-sample\" /></td>\n",
    "        <td><img src=\"https://www.cs.toronto.edu/~kriz/cifar-10-sample/ship4.png\" class=\"cifar-sample\" /></td>\n",
    "        <td><img src=\"https://www.cs.toronto.edu/~kriz/cifar-10-sample/ship5.png\" class=\"cifar-sample\" /></td>\n",
    "        <td><img src=\"https://www.cs.toronto.edu/~kriz/cifar-10-sample/ship6.png\" class=\"cifar-sample\" /></td>\n",
    "        <td><img src=\"https://www.cs.toronto.edu/~kriz/cifar-10-sample/ship7.png\" class=\"cifar-sample\" /></td>\n",
    "        <td><img src=\"https://www.cs.toronto.edu/~kriz/cifar-10-sample/ship8.png\" class=\"cifar-sample\" /></td>\n",
    "        <td><img src=\"https://www.cs.toronto.edu/~kriz/cifar-10-sample/ship9.png\" class=\"cifar-sample\" /></td>\n",
    "        <td><img src=\"https://www.cs.toronto.edu/~kriz/cifar-10-sample/ship10.png\" class=\"cifar-sample\" /></td>\n",
    "    </tr>\n",
    "    <tr>\n",
    "        <td class=\"cifar-class-name\">truck</td>\n",
    "        <td><img src=\"https://www.cs.toronto.edu/~kriz/cifar-10-sample/truck1.png\" class=\"cifar-sample\" /></td>\n",
    "        <td><img src=\"https://www.cs.toronto.edu/~kriz/cifar-10-sample/truck2.png\" class=\"cifar-sample\" /></td>\n",
    "        <td><img src=\"https://www.cs.toronto.edu/~kriz/cifar-10-sample/truck3.png\" class=\"cifar-sample\" /></td>\n",
    "        <td><img src=\"https://www.cs.toronto.edu/~kriz/cifar-10-sample/truck4.png\" class=\"cifar-sample\" /></td>\n",
    "        <td><img src=\"https://www.cs.toronto.edu/~kriz/cifar-10-sample/truck5.png\" class=\"cifar-sample\" /></td>\n",
    "        <td><img src=\"https://www.cs.toronto.edu/~kriz/cifar-10-sample/truck6.png\" class=\"cifar-sample\" /></td>\n",
    "        <td><img src=\"https://www.cs.toronto.edu/~kriz/cifar-10-sample/truck7.png\" class=\"cifar-sample\" /></td>\n",
    "        <td><img src=\"https://www.cs.toronto.edu/~kriz/cifar-10-sample/truck8.png\" class=\"cifar-sample\" /></td>\n",
    "        <td><img src=\"https://www.cs.toronto.edu/~kriz/cifar-10-sample/truck9.png\" class=\"cifar-sample\" /></td>\n",
    "        <td><img src=\"https://www.cs.toronto.edu/~kriz/cifar-10-sample/truck10.png\" class=\"cifar-sample\" /></td>\n",
    "    </tr>\n",
    "</table>\n",
    "\n",
    "(Visualization from [Alex Krizhevsky](https://www.cs.toronto.edu/~kriz/cifar.html))\n",
    "\n",
    "## Rules\n",
    "\n",
    "You are free to use any traditional machine learning model (no end-to-end learning approaches) and any code that we used in the lab courses or that you may find online, but you have to be able to explain what that code does. Also, you have to utilize a model that learns from the data (memorizing the test set labels does not count). Achieving a high accuracy in this assignment is not necessarily required for a good grade (but it helps a little bit). Instead, it is more important that the method is implemented properly and the results are presented well. This includes a proper analysis of the results and the choice of hyperparameters should be justified.    \n",
    "\n",
    "You are required to submit a working Notebook with your code by the time of the deadline. It is required that you evaluate your model on the entire test data set with the accuracy metric."
   ]
  },
  {
   "cell_type": "markdown",
   "metadata": {
    "id": "4JKWJP5BOoZQ"
   },
   "source": [
    "<hr>\n",
    "\n",
    "# Setup\n",
    "\n",
    "First, we import some important Python modules and setup our Python environment. Feel free to add more modules if you need them."
   ]
  },
  {
   "cell_type": "code",
   "execution_count": 1,
   "metadata": {
    "id": "d0uFih7sOoZT"
   },
   "outputs": [],
   "source": [
    "# ignore warnings\n",
    "import warnings\n",
    "warnings.filterwarnings('ignore')\n",
    "\n",
    "# we will use torchvision to access CiFAR-10\n",
    "import torchvision\n",
    "\n",
    "# some useful imports\n",
    "import os\n",
    "import numpy as np\n",
    "import matplotlib.pyplot as plt\n",
    "import sklearn\n",
    "%matplotlib inline\n",
    "\n",
    "# set a seed value for the random number generator\n",
    "seed_value = 42\n",
    "np.random.seed(seed_value) # set numpy seed"
   ]
  },
  {
   "cell_type": "markdown",
   "metadata": {
    "id": "COxMoH_tOoZU"
   },
   "source": [
    "If you use Google Colab, you can mount your Google Drive to your Notebook environment. This allows you to save your Notebook, data, and trained models permanently. Run the following code cell to mount your Google Drive."
   ]
  },
  {
   "cell_type": "code",
   "execution_count": null,
   "metadata": {
    "colab": {
     "base_uri": "https://localhost:8080/"
    },
    "id": "iWXEvgbNOoZV",
    "outputId": "5fdd0cfb-31e9-489c-8cf6-2efa7f68d664"
   },
   "outputs": [],
   "source": [
    "from google.colab import drive\n",
    "drive.mount('/content/drive')\n",
    "os.chdir('/content/drive/MyDrive/Colab Notebooks/')"
   ]
  },
  {
   "cell_type": "markdown",
   "metadata": {
    "id": "KzvLvBhDOoZW"
   },
   "source": [
    "Irrespective of whether you mounted your Google Drive or not, we create some directories for storing the data and the trained model instances."
   ]
  },
  {
   "cell_type": "code",
   "execution_count": 2,
   "metadata": {
    "id": "rDj9zwpJOoZW"
   },
   "outputs": [],
   "source": [
    "if not os.path.exists('./data'): os.makedirs('./data')  # create data directory\n",
    "if not os.path.exists('./models'): os.makedirs('./models')  # create trained models directory"
   ]
  },
  {
   "cell_type": "markdown",
   "metadata": {
    "id": "3eo3RmiSOoZX"
   },
   "source": [
    "# Data Download and Access"
   ]
  },
  {
   "cell_type": "markdown",
   "metadata": {
    "id": "R8kMIt0AOoZX"
   },
   "source": [
    "We now download the CiFAR-10 data set. \n",
    "\n",
    "The **CIFAR-10 database** (**C**anadian **I**nstitute **F**or **A**dvanced **R**esearch) is a collection of images that are commonly used to train machine learning and computer vision algorithms. Details on the dataset can be obtained in [Krizhevsky, A., 2009. \"Learning Multiple Layers of Features from Tiny Images\"](https://www.cs.toronto.edu/~kriz/learning-features-2009-TR.pdf) or the [data set website](https://www.cs.toronto.edu/~kriz/cifar.html).\n",
    "\n",
    "The CIFAR-10 database contains **60,000 color images** (50,000 training images and 10,000 validation images). The size of each image is 32 by 32 pixels. The collection of images encompasses 10 different classes that represent airplanes, cars, birds, cats, deer, dogs, frogs, horses, ships, and trucks. Therefore, the dataset contains 6,000 images for each of the ten classes. \n",
    "\n",
    "Let's download, transform and inspect the training and test data sets:"
   ]
  },
  {
   "cell_type": "code",
   "execution_count": 3,
   "metadata": {
    "id": "c4UKHyfwOoZY"
   },
   "outputs": [],
   "source": [
    "# define paths to data sets\n",
    "train_path = './data/train_cifar10'\n",
    "test_path = './data/test_cifar10'\n",
    "\n",
    "\n",
    "transf = torchvision.transforms.Compose([torchvision.transforms.Normalize(mean=[0.5, 0.5, 0.5], std=[0.5, 0.5, 0.5])])\n",
    "\n",
    "# download and transform training images\n",
    "cifar10_train = torchvision.datasets.CIFAR10(root=train_path, train=True, download=True) if not os.path.exists(train_path) else torchvision.datasets.CIFAR10(root=train_path, train=True, transform=transf, download=False)\n",
    "cifar10_test = torchvision.datasets.CIFAR10(root=test_path, train=False, download=True) if not os.path.exists(test_path) else torchvision.datasets.CIFAR10(root=test_path, train=False, transform=transf, download=False)\n",
    "\n",
    "# extract data and labels\n",
    "cifar10_train_data = cifar10_train.data\n",
    "cifar10_train_labels = cifar10_train.targets\n",
    "cifar10_test_data = cifar10_test.data\n",
    "cifar10_test_labels = cifar10_test.targets\n",
    "\n",
    "# extract class labels\n",
    "cifar10_classes = cifar10_train.classes\n"
   ]
  },
  {
   "cell_type": "markdown",
   "metadata": {
    "id": "sUIdisuyOoZY"
   },
   "source": [
    "Check whether the data sets are complete and have a look at their shape:"
   ]
  },
  {
   "cell_type": "code",
   "execution_count": 4,
   "metadata": {
    "colab": {
     "base_uri": "https://localhost:8080/"
    },
    "id": "O5DkiyQXOoZZ",
    "outputId": "174ad689-2bf8-46fc-a24b-af165ca19b27"
   },
   "outputs": [
    {
     "data": {
      "text/plain": [
       "((50000, 32, 32, 3), (10000, 32, 32, 3))"
      ]
     },
     "execution_count": 4,
     "metadata": {},
     "output_type": "execute_result"
    }
   ],
   "source": [
    "cifar10_train_data.shape, cifar10_test_data.shape"
   ]
  },
  {
   "cell_type": "markdown",
   "metadata": {
    "id": "UFjlC5F7OoZZ"
   },
   "source": [
    "Looks good, we have 50000 training images and 10000 test images. Each image has $32\\times32$ pixels and 3 channels (RGB). Let's extract a single image:"
   ]
  },
  {
   "cell_type": "code",
   "execution_count": 5,
   "metadata": {
    "colab": {
     "base_uri": "https://localhost:8080/"
    },
    "id": "IIeY1Q3bOoZZ",
    "outputId": "f2c74e04-21ea-41f6-c02b-d43f7a6e0816"
   },
   "outputs": [
    {
     "data": {
      "text/plain": [
       "array([[[213, 229, 242],\n",
       "        [211, 227, 240],\n",
       "        [211, 227, 240],\n",
       "        ...,\n",
       "        [151, 174, 206],\n",
       "        [151, 174, 206],\n",
       "        [149, 172, 204]],\n",
       "\n",
       "       [[214, 229, 241],\n",
       "        [212, 227, 239],\n",
       "        [212, 227, 239],\n",
       "        ...,\n",
       "        [152, 175, 207],\n",
       "        [152, 175, 207],\n",
       "        [151, 174, 205]],\n",
       "\n",
       "       [[216, 229, 239],\n",
       "        [214, 227, 237],\n",
       "        [213, 227, 237],\n",
       "        ...,\n",
       "        [153, 176, 206],\n",
       "        [153, 176, 206],\n",
       "        [151, 174, 204]],\n",
       "\n",
       "       ...,\n",
       "\n",
       "       [[145, 159, 165],\n",
       "        [136, 148, 154],\n",
       "        [143, 152, 158],\n",
       "        ...,\n",
       "        [216, 217, 206],\n",
       "        [196, 197, 191],\n",
       "        [183, 183, 182]],\n",
       "\n",
       "       [[139, 153, 159],\n",
       "        [129, 142, 148],\n",
       "        [129, 139, 145],\n",
       "        ...,\n",
       "        [227, 228, 219],\n",
       "        [223, 224, 219],\n",
       "        [209, 209, 209]],\n",
       "\n",
       "       [[137, 152, 157],\n",
       "        [143, 155, 161],\n",
       "        [136, 145, 152],\n",
       "        ...,\n",
       "        [209, 209, 203],\n",
       "        [217, 217, 213],\n",
       "        [228, 228, 226]]], dtype=uint8)"
      ]
     },
     "execution_count": 5,
     "metadata": {},
     "output_type": "execute_result"
    }
   ],
   "source": [
    "cifar10_train_data[100]"
   ]
  },
  {
   "cell_type": "markdown",
   "metadata": {
    "id": "MlA6xVC0OoZZ"
   },
   "source": [
    "Let's plot this image with matplotlib:"
   ]
  },
  {
   "cell_type": "code",
   "execution_count": 6,
   "metadata": {
    "colab": {
     "base_uri": "https://localhost:8080/",
     "height": 265
    },
    "id": "Wb282bMlOoZa",
    "outputId": "7004635a-dfc1-4b9c-b53c-4a3d0d0e50f8"
   },
   "outputs": [
    {
     "data": {
      "image/png": "[encoded data removed]",
      "text/plain": [
       "<Figure size 432x288 with 1 Axes>"
      ]
     },
     "metadata": {
      "needs_background": "light"
     },
     "output_type": "display_data"
    }
   ],
   "source": [
    "plt.imshow(cifar10_train_data[1000])\n",
    "plt.show()"
   ]
  },
  {
   "cell_type": "markdown",
   "metadata": {
    "id": "vda746mjOoZa"
   },
   "source": [
    "This looks like a truck. Let's check the actual image label:"
   ]
  },
  {
   "cell_type": "code",
   "execution_count": 7,
   "metadata": {
    "colab": {
     "base_uri": "https://localhost:8080/",
     "height": 36
    },
    "id": "eFIDrdJeOoZa",
    "outputId": "61cee3df-13a5-47d4-84c9-6821c3586894"
   },
   "outputs": [
    {
     "data": {
      "text/plain": [
       "'truck'"
      ]
     },
     "execution_count": 7,
     "metadata": {},
     "output_type": "execute_result"
    }
   ],
   "source": [
    "cifar10_classes[cifar10_train_labels[1000]]"
   ]
  },
  {
   "cell_type": "markdown",
   "metadata": {
    "id": "l9SY-1-AOoZa"
   },
   "source": [
    "Indeed, this is a truck. No go out and train a model to classify these images!"
   ]
  },
  {
   "cell_type": "markdown",
   "metadata": {
    "id": "oYexHWrZOoZb"
   },
   "source": [
    "<hr>\n",
    "\n",
    "# Team\n",
    "\n",
    "Please enter here the names of students that worked on this Notebook:\n",
    "* Dominik Manuel Buchegger\n",
    "* Leopold Huberth\n",
    "* Humberto Bernal\n",
    "* Yannick Cadonau"
   ]
  },
  {
   "cell_type": "markdown",
   "metadata": {
    "id": "EjH0_4AIOoZb"
   },
   "source": [
    "<hr>\n",
    "\n",
    "# 1) Feature Engineering   "
   ]
  },
  {
   "cell_type": "code",
   "execution_count": 8,
   "metadata": {
    "colab": {
     "base_uri": "https://localhost:8080/"
    },
    "id": "nEdwp01DOoZb",
    "outputId": "3230fb45-4760-4413-9a48-cb081d335479"
   },
   "outputs": [
    {
     "name": "stdout",
     "output_type": "stream",
     "text": [
      "(50000, 32, 32, 3)\n",
      "(10000, 32, 32, 3)\n"
     ]
    }
   ],
   "source": [
    "#look at data shape\n",
    "\n",
    "print(cifar10_train_data.shape)\n",
    "print(cifar10_test_data.shape)"
   ]
  },
  {
   "cell_type": "markdown",
   "metadata": {
    "id": "IeFyOh9M6LBC"
   },
   "source": [
    "Above we see that both the train and the test data are four dimensional arrays. Before we can use our data in our classificators we need to flatten the two arrays."
   ]
  },
  {
   "cell_type": "code",
   "execution_count": 9,
   "metadata": {
    "colab": {
     "base_uri": "https://localhost:8080/"
    },
    "id": "4NI3_3vo6LBD",
    "outputId": "8bd57968-2547-43ac-b580-d0063c315c34"
   },
   "outputs": [
    {
     "name": "stdout",
     "output_type": "stream",
     "text": [
      "(50000, 3072)\n",
      "(10000, 3072)\n"
     ]
    }
   ],
   "source": [
    "#flatten the arrays\n",
    "\n",
    "cifar_train_data_flat = cifar10_train_data.reshape((cifar10_train_data.shape[0],3072))\n",
    "cifar_test_data_flat = cifar10_test_data.reshape((cifar10_test_data.shape[0],3072))\n",
    "\n",
    "print(cifar_train_data_flat.shape)\n",
    "print(cifar_test_data_flat.shape)"
   ]
  },
  {
   "cell_type": "markdown",
   "metadata": {
    "id": "HpWrWkAS6LBD"
   },
   "source": [
    "<hr>\n",
    "\n",
    "# 2) Data Scaling"
   ]
  },
  {
   "cell_type": "markdown",
   "metadata": {
    "id": "zNyUSepA6LBD"
   },
   "source": [
    "Now that we have a two dimensional array we can scale the data using the StandardScaler. In order to prevent information leakage from the test data, we only fit the scaler on the train data and then transform both the train and test data. Thereby no information about the distribution of the test data flows into our model and we ensure that the model performance on the test data is a true estimate of performance on unseen data."
   ]
  },
  {
   "cell_type": "code",
   "execution_count": 10,
   "metadata": {
    "colab": {
     "base_uri": "https://localhost:8080/"
    },
    "id": "6Zj0up856LBD",
    "outputId": "0ae95220-1bef-4204-ba14-bdc1b8ac6e48"
   },
   "outputs": [
    {
     "name": "stdout",
     "output_type": "stream",
     "text": [
      "original data, mean = [130.71 136.06 132.55 ... 126.64 125.85 114.38]\n",
      "original data, std = [73.41 72.91 80.45 ... 64.93 62.65 66.08]\n"
     ]
    }
   ],
   "source": [
    "print('original data, mean =', np.round(np.mean(cifar_train_data_flat, axis=0), 2))\n",
    "print('original data, std =', np.round(np.std(cifar_train_data_flat, axis=0), 2))"
   ]
  },
  {
   "cell_type": "markdown",
   "metadata": {
    "id": "lWc9E4Qy6LBE"
   },
   "source": [
    "When we look at the distribution of the dataset we see that the single features have differing means and variances. Since a lot of Machine Learning models depend on distance metrics (e.g.) k-nearest-Neighbours, we need to scale the data."
   ]
  },
  {
   "cell_type": "code",
   "execution_count": 11,
   "metadata": {
    "id": "AjUXHUqW6LBE"
   },
   "outputs": [],
   "source": [
    "#Scaling\n",
    "\n",
    "from sklearn.preprocessing import StandardScaler\n",
    "\n",
    "scaler = StandardScaler()\n",
    "\n",
    "cifar_train_data = scaler.fit_transform(cifar_train_data_flat)\n",
    "cifar_test_data = scaler.transform(cifar_test_data_flat)"
   ]
  },
  {
   "cell_type": "code",
   "execution_count": 12,
   "metadata": {
    "colab": {
     "base_uri": "https://localhost:8080/"
    },
    "id": "7HlguHI16LBE",
    "outputId": "512a88ab-0f19-447f-ead9-9c822faa09d6"
   },
   "outputs": [
    {
     "name": "stdout",
     "output_type": "stream",
     "text": [
      "scaled data, mean = [ 0. -0.  0. ...  0. -0.  0.]\n",
      "scaled data, std = [1. 1. 1. ... 1. 1. 1.]\n"
     ]
    }
   ],
   "source": [
    "print('scaled data, mean =', np.round(np.mean(cifar_train_data, axis=0), 2))\n",
    "print('scaled data, std =', np.round(np.std(cifar_train_data, axis=0), 2))"
   ]
  },
  {
   "cell_type": "markdown",
   "metadata": {
    "id": "65fKBEfy6LBE"
   },
   "source": [
    "Looking at our scaled data we see that we successfully standardized the data."
   ]
  },
  {
   "cell_type": "markdown",
   "metadata": {
    "id": "DNkVAxOo6LBF"
   },
   "source": [
    "<hr>\n",
    "\n",
    "# 3) Data Splitting"
   ]
  },
  {
   "cell_type": "markdown",
   "metadata": {
    "id": "u6lmLyIv6LBF"
   },
   "source": [
    "To tune our hyperparameter we are using cross-validation. We therefore don't need a seperate validation dataset and can use all of our training and testing data."
   ]
  },
  {
   "cell_type": "markdown",
   "metadata": {
    "id": "UmcVtj-P6LBF"
   },
   "source": [
    "<hr>\n",
    "\n",
    "# 4) Define Hyperparameters"
   ]
  },
  {
   "cell_type": "markdown",
   "metadata": {
    "id": "FflMKeav6LBG"
   },
   "source": [
    "As we learned in the lecture, our kNN model has a single hyperparameter: the number of neighbors, k. We start by considering a simple nearest neighbor model, which, of course, implies that k=1."
   ]
  },
  {
   "cell_type": "code",
   "execution_count": 13,
   "metadata": {
    "colab": {
     "base_uri": "https://localhost:8080/",
     "height": 297
    },
    "id": "Hn_3-GJO6LBG",
    "outputId": "f33ad708-f0fa-4971-8c63-265bf9584857"
   },
   "outputs": [],
   "source": [
    "k = 1"
   ]
  },
  {
   "cell_type": "markdown",
   "metadata": {},
   "source": [
    "Additionally we inspect the application of a Principle Component Analysis (PCA)."
   ]
  },
  {
   "cell_type": "code",
   "execution_count": 14,
   "metadata": {},
   "outputs": [
    {
     "data": {
      "text/plain": [
       "Text(0, 0.5, 'cumulative explained variance')"
      ]
     },
     "execution_count": 14,
     "metadata": {},
     "output_type": "execute_result"
    },
    {
     "data": {
      "image/png": "[encoded data removed]",
      "text/plain": [
       "<Figure size 432x288 with 1 Axes>"
      ]
     },
     "metadata": {
      "needs_background": "light"
     },
     "output_type": "display_data"
    }
   ],
   "source": [
    "from sklearn.decomposition import PCA\n",
    "\n",
    "pca = PCA().fit(cifar_train_data)\n",
    "plt.plot(np.cumsum(pca.explained_variance_ratio_))\n",
    "plt.xlabel(\"number of components\")\n",
    "plt.ylabel(\"cumulative explained variance\")"
   ]
  },
  {
   "cell_type": "markdown",
   "metadata": {},
   "source": [
    "This plot shows us that we can explain nearly 90% of the variance in the dataset with the first 75 principal components. We therefore choose n=75."
   ]
  },
  {
   "cell_type": "code",
   "execution_count": 15,
   "metadata": {},
   "outputs": [],
   "source": [
    "n = 75"
   ]
  },
  {
   "cell_type": "markdown",
   "metadata": {
    "id": "42-Snf696LBH"
   },
   "source": [
    "<hr>\n",
    "\n",
    "# 5) Train model on fixed hyperparameters  "
   ]
  },
  {
   "cell_type": "markdown",
   "metadata": {
    "id": "DcOgiR2Q6LBH"
   },
   "source": [
    "Then we train the model on our training dataset (one time with pca and one time without) and use the trained model to make predictions. We take a single datapoint to check whether it makes a correct prediction."
   ]
  },
  {
   "cell_type": "code",
   "execution_count": 16,
   "metadata": {
    "colab": {
     "base_uri": "https://localhost:8080/"
    },
    "id": "KnUaM19L6LBI",
    "outputId": "ef19a0e9-9e24-4ffd-ac31-3ea203d6270f"
   },
   "outputs": [
    {
     "name": "stdout",
     "output_type": "stream",
     "text": [
      "[6]\n",
      "6\n",
      "frog\n",
      "[6]\n",
      "6\n",
      "frog\n"
     ]
    }
   ],
   "source": [
    "from sklearn.neighbors import KNeighborsClassifier\n",
    "from sklearn.decomposition import PCA\n",
    "\n",
    "# Apply PCA\n",
    "pca = PCA(n_components=n)\n",
    "pca.fit(cifar_train_data, cifar10_train_labels)\n",
    "cifar_train_data_pca = pca.transform(cifar_train_data)\n",
    "cifar_test_data_pca = pca.transform(cifar_test_data)\n",
    "\n",
    "# clf without pca\n",
    "clf = KNeighborsClassifier(n_neighbors=k)\n",
    "clf.fit(cifar_train_data, cifar10_train_labels)\n",
    "print(clf.predict(cifar_train_data[0].reshape(1,-1)))\n",
    "print(cifar10_train_labels[0])\n",
    "print(cifar10_classes[cifar10_train_labels[0]])\n",
    "\n",
    "# clf with pca\n",
    "clf_pca = KNeighborsClassifier(n_neighbors=k)\n",
    "clf_pca.fit(cifar_train_data_pca, cifar10_train_labels)\n",
    "print(clf_pca.predict(cifar_train_data_pca[0].reshape(1,-1)))\n",
    "print(cifar10_train_labels[0])\n",
    "print(cifar10_classes[cifar10_train_labels[0]])"
   ]
  },
  {
   "cell_type": "markdown",
   "metadata": {
    "id": "Qg1ZzwrC6LBI"
   },
   "source": [
    "<hr>\n",
    "\n",
    "# 6) Evaluate model on test data set   "
   ]
  },
  {
   "cell_type": "markdown",
   "metadata": {
    "id": "j2plmMR86LBI"
   },
   "source": [
    "We then use our previous test data set for evaluating our model performance."
   ]
  },
  {
   "cell_type": "code",
   "execution_count": 17,
   "metadata": {
    "colab": {
     "base_uri": "https://localhost:8080/"
    },
    "id": "WB_GEJYA6LBI",
    "outputId": "6a9dac1c-8d40-4739-8c65-4f5081b64f83"
   },
   "outputs": [
    {
     "name": "stdout",
     "output_type": "stream",
     "text": [
      "accuracy_score: 0.3567\n",
      "accuracy_score: 0.3917\n"
     ]
    }
   ],
   "source": [
    "from sklearn.metrics import accuracy_score\n",
    "\n",
    "pred_y = clf.predict(cifar_test_data)\n",
    "print('accuracy_score:', accuracy_score(cifar10_test_labels, pred_y))\n",
    "\n",
    "pred_y_pca = clf_pca.predict(cifar_test_data_pca)\n",
    "print('accuracy_score:', accuracy_score(cifar10_test_labels, pred_y_pca))"
   ]
  },
  {
   "cell_type": "markdown",
   "metadata": {},
   "source": [
    "We find that the model makes an accurate prediction in 35.67% of cases without PCA and in 39.17% of cases with PCA.\n",
    "\n",
    "This could be it, but there is a good chance that by tuning our hyperparameters, k & n, we can achieve a better result."
   ]
  },
  {
   "cell_type": "markdown",
   "metadata": {
    "id": "E9pp37LQ6LBJ"
   },
   "source": [
    "<hr>\n",
    "\n",
    "# 7) Maximize performance on validation data set by tuning hyperparameters  "
   ]
  },
  {
   "cell_type": "markdown",
   "metadata": {
    "id": "R1KQaR356LBJ"
   },
   "source": [
    "To tune our hyperparameters k & n, we do a grid search with a 3-fold cross validation. A big advantage of cross validation is that we do not need a validation dataset and can therefore preserve a larger data set for training."
   ]
  },
  {
   "cell_type": "code",
   "execution_count": 18,
   "metadata": {
    "id": "ZOXa1Kc96LBJ"
   },
   "outputs": [
    {
     "name": "stdout",
     "output_type": "stream",
     "text": [
      "Fitting 3 folds for each of 9 candidates, totalling 27 fits\n",
      "[CV 1/3; 1/9] START clf__n_neighbors=5, pca__n_components=10....................\n",
      "[CV 1/3; 1/9] END clf__n_neighbors=5, pca__n_components=10;, score=0.325 total time=   7.8s\n",
      "[CV 2/3; 1/9] START clf__n_neighbors=5, pca__n_components=10....................\n",
      "[CV 2/3; 1/9] END clf__n_neighbors=5, pca__n_components=10;, score=0.325 total time=   7.5s\n",
      "[CV 3/3; 1/9] START clf__n_neighbors=5, pca__n_components=10....................\n",
      "[CV 3/3; 1/9] END clf__n_neighbors=5, pca__n_components=10;, score=0.328 total time=   8.0s\n",
      "[CV 1/3; 2/9] START clf__n_neighbors=5, pca__n_components=20....................\n",
      "[CV 1/3; 2/9] END clf__n_neighbors=5, pca__n_components=20;, score=0.379 total time=  15.7s\n",
      "[CV 2/3; 2/9] START clf__n_neighbors=5, pca__n_components=20....................\n",
      "[CV 2/3; 2/9] END clf__n_neighbors=5, pca__n_components=20;, score=0.379 total time=  15.6s\n",
      "[CV 3/3; 2/9] START clf__n_neighbors=5, pca__n_components=20....................\n",
      "[CV 3/3; 2/9] END clf__n_neighbors=5, pca__n_components=20;, score=0.376 total time=  15.9s\n",
      "[CV 1/3; 3/9] START clf__n_neighbors=5, pca__n_components=50....................\n",
      "[CV 1/3; 3/9] END clf__n_neighbors=5, pca__n_components=50;, score=0.379 total time=  16.6s\n",
      "[CV 2/3; 3/9] START clf__n_neighbors=5, pca__n_components=50....................\n",
      "[CV 2/3; 3/9] END clf__n_neighbors=5, pca__n_components=50;, score=0.379 total time=  16.3s\n",
      "[CV 3/3; 3/9] START clf__n_neighbors=5, pca__n_components=50....................\n",
      "[CV 3/3; 3/9] END clf__n_neighbors=5, pca__n_components=50;, score=0.376 total time=  16.9s\n",
      "[CV 1/3; 4/9] START clf__n_neighbors=10, pca__n_components=10...................\n",
      "[CV 1/3; 4/9] END clf__n_neighbors=10, pca__n_components=10;, score=0.339 total time=   7.3s\n",
      "[CV 2/3; 4/9] START clf__n_neighbors=10, pca__n_components=10...................\n",
      "[CV 2/3; 4/9] END clf__n_neighbors=10, pca__n_components=10;, score=0.346 total time=   7.3s\n",
      "[CV 3/3; 4/9] START clf__n_neighbors=10, pca__n_components=10...................\n",
      "[CV 3/3; 4/9] END clf__n_neighbors=10, pca__n_components=10;, score=0.345 total time=   7.3s\n",
      "[CV 1/3; 5/9] START clf__n_neighbors=10, pca__n_components=20...................\n",
      "[CV 1/3; 5/9] END clf__n_neighbors=10, pca__n_components=20;, score=0.395 total time=  15.2s\n",
      "[CV 2/3; 5/9] START clf__n_neighbors=10, pca__n_components=20...................\n",
      "[CV 2/3; 5/9] END clf__n_neighbors=10, pca__n_components=20;, score=0.395 total time=  15.4s\n",
      "[CV 3/3; 5/9] START clf__n_neighbors=10, pca__n_components=20...................\n",
      "[CV 3/3; 5/9] END clf__n_neighbors=10, pca__n_components=20;, score=0.391 total time=  15.8s\n",
      "[CV 1/3; 6/9] START clf__n_neighbors=10, pca__n_components=50...................\n",
      "[CV 1/3; 6/9] END clf__n_neighbors=10, pca__n_components=50;, score=0.389 total time=  16.8s\n",
      "[CV 2/3; 6/9] START clf__n_neighbors=10, pca__n_components=50...................\n",
      "[CV 2/3; 6/9] END clf__n_neighbors=10, pca__n_components=50;, score=0.384 total time=  17.0s\n",
      "[CV 3/3; 6/9] START clf__n_neighbors=10, pca__n_components=50...................\n",
      "[CV 3/3; 6/9] END clf__n_neighbors=10, pca__n_components=50;, score=0.385 total time=  18.2s\n",
      "[CV 1/3; 7/9] START clf__n_neighbors=25, pca__n_components=10...................\n",
      "[CV 1/3; 7/9] END clf__n_neighbors=25, pca__n_components=10;, score=0.360 total time=   8.8s\n",
      "[CV 2/3; 7/9] START clf__n_neighbors=25, pca__n_components=10...................\n",
      "[CV 2/3; 7/9] END clf__n_neighbors=25, pca__n_components=10;, score=0.360 total time=   9.4s\n",
      "[CV 3/3; 7/9] START clf__n_neighbors=25, pca__n_components=10...................\n",
      "[CV 3/3; 7/9] END clf__n_neighbors=25, pca__n_components=10;, score=0.359 total time=   9.0s\n",
      "[CV 1/3; 8/9] START clf__n_neighbors=25, pca__n_components=20...................\n",
      "[CV 1/3; 8/9] END clf__n_neighbors=25, pca__n_components=20;, score=0.401 total time=  16.5s\n",
      "[CV 2/3; 8/9] START clf__n_neighbors=25, pca__n_components=20...................\n",
      "[CV 2/3; 8/9] END clf__n_neighbors=25, pca__n_components=20;, score=0.398 total time=  17.0s\n",
      "[CV 3/3; 8/9] START clf__n_neighbors=25, pca__n_components=20...................\n",
      "[CV 3/3; 8/9] END clf__n_neighbors=25, pca__n_components=20;, score=0.394 total time=  17.5s\n",
      "[CV 1/3; 9/9] START clf__n_neighbors=25, pca__n_components=50...................\n",
      "[CV 1/3; 9/9] END clf__n_neighbors=25, pca__n_components=50;, score=0.385 total time=  18.6s\n",
      "[CV 2/3; 9/9] START clf__n_neighbors=25, pca__n_components=50...................\n",
      "[CV 2/3; 9/9] END clf__n_neighbors=25, pca__n_components=50;, score=0.377 total time=  19.0s\n",
      "[CV 3/3; 9/9] START clf__n_neighbors=25, pca__n_components=50...................\n",
      "[CV 3/3; 9/9] END clf__n_neighbors=25, pca__n_components=50;, score=0.376 total time=  18.5s\n"
     ]
    },
    {
     "data": {
      "text/plain": [
       "GridSearchCV(cv=StratifiedKFold(n_splits=3, random_state=42, shuffle=True),\n",
       "             estimator=Pipeline(steps=[('pca', PCA()),\n",
       "                                       ('clf', KNeighborsClassifier())]),\n",
       "             n_jobs=1,\n",
       "             param_grid={'clf__n_neighbors': (5, 10, 25),\n",
       "                         'pca__n_components': (10, 20, 50)},\n",
       "             scoring='accuracy', verbose=10)"
      ]
     },
     "execution_count": 18,
     "metadata": {},
     "output_type": "execute_result"
    }
   ],
   "source": [
    "from sklearn.pipeline import Pipeline\n",
    "from sklearn.model_selection import GridSearchCV, StratifiedKFold\n",
    "\n",
    "pipe = Pipeline([\n",
    "    ('pca', PCA()),\n",
    "    ('clf', KNeighborsClassifier()),\n",
    "])\n",
    "\n",
    "parameters = {\n",
    "    \"clf__n_neighbors\": (5, 10, 25),\n",
    "    \"pca__n_components\": (10, 20, 50)\n",
    "    }\n",
    "\n",
    "kf = StratifiedKFold(n_splits=3, shuffle=True, random_state=42)\n",
    "gs = GridSearchCV(pipe, parameters, cv=kf, scoring=\"accuracy\", n_jobs=1, verbose=10)\n",
    "gs.fit(cifar_train_data, cifar10_train_labels)"
   ]
  },
  {
   "cell_type": "code",
   "execution_count": 19,
   "metadata": {
    "id": "PQ8MVtUg6LBJ"
   },
   "outputs": [
    {
     "name": "stdout",
     "output_type": "stream",
     "text": [
      "Best score: 0.3976799223165903\n",
      "Best parameters set:\n",
      "\tclf__n_neighbors: 25\n",
      "\tpca__n_components: 20\n"
     ]
    }
   ],
   "source": [
    "print(f\"Best score: {gs.best_score_}\")\n",
    "print(\"Best parameters set:\")\n",
    "best_parameters = gs.best_estimator_.get_params()\n",
    "for param_name in sorted(parameters.keys()):\n",
    "    print(\"\\t%s: %r\" % (param_name, best_parameters[param_name]))"
   ]
  },
  {
   "cell_type": "markdown",
   "metadata": {},
   "source": [
    "With more computing power we could try even more combinations in our grid search and also increase our k & n to very high numbers (maybe k=1000 would yield a better accuracy?). But for now we are fine with the parameters we found and are going forward with k=25 and n=20."
   ]
  },
  {
   "cell_type": "markdown",
   "metadata": {
    "id": "QhU0DBZG6LBK"
   },
   "source": [
    "<hr>\n",
    "\n",
    "# 8) Retrain model and evaluate trained model on test data set "
   ]
  },
  {
   "cell_type": "markdown",
   "metadata": {},
   "source": [
    "We can train a new model with those hyperparameters and check the final accuracy."
   ]
  },
  {
   "cell_type": "code",
   "execution_count": 20,
   "metadata": {
    "id": "WWQOrYt96LBK"
   },
   "outputs": [
    {
     "name": "stdout",
     "output_type": "stream",
     "text": [
      "accuracy_score: 0.3344\n",
      "accuracy_score with pca: 0.415\n"
     ]
    }
   ],
   "source": [
    "k = 25\n",
    "n = 20\n",
    "\n",
    "# Apply PCA\n",
    "pca = PCA(n_components=n)\n",
    "pca.fit(cifar_train_data, cifar10_train_labels)\n",
    "cifar_train_data_pca = pca.transform(cifar_train_data)\n",
    "cifar_test_data_pca = pca.transform(cifar_test_data)\n",
    "\n",
    "# clf without pca\n",
    "clf = KNeighborsClassifier(n_neighbors=k)\n",
    "clf.fit(cifar_train_data, cifar10_train_labels)\n",
    "pred_y = clf.predict(cifar_test_data)\n",
    "print('accuracy_score:', accuracy_score(cifar10_test_labels, pred_y))\n",
    "\n",
    "# clf with pca\n",
    "clf_pca = KNeighborsClassifier(n_neighbors=k)\n",
    "clf_pca.fit(cifar_train_data_pca, cifar10_train_labels)\n",
    "pred_y_pca = clf_pca.predict(cifar_test_data_pca)\n",
    "print('accuracy_score with pca:', accuracy_score(cifar10_test_labels, pred_y_pca))"
   ]
  },
  {
   "cell_type": "markdown",
   "metadata": {},
   "source": [
    "We get an accuracy of 41.5% with PCA and 33.44% without PCA. It is perfectly reasonable that the accuracy with those hyperparameters without PCA is lower than the accuracy with randomly chosen hyperparameters because those parameters are optimized for using PCA."
   ]
  },
  {
   "cell_type": "markdown",
   "metadata": {},
   "source": [
    "<hr>\n",
    "\n",
    "# 9) Inspect results further with confusion matrix"
   ]
  },
  {
   "cell_type": "markdown",
   "metadata": {
    "id": "VMJYDZfzZHSb"
   },
   "source": [
    "If we look at the confusion matrix we can see where most of the errors in the end happened.\n",
    "\n",
    "Thereby we see that the labels \"ship\", \"airplane\" and \"frog\" did not have too many false predcitions.\n",
    "\n",
    "On the other side, the labels \"cat\" and \"dog\" had many false predictions.\n",
    "\n",
    "The most common false predictions were:\n",
    "\n",
    "*   \"cat\" - \"frog\"   \n",
    "*   \"airplane\" - \"ship\"\n",
    "*   \"bird\" - \"deer\"\n",
    "\n"
   ]
  },
  {
   "cell_type": "code",
   "execution_count": 38,
   "metadata": {
    "colab": {
     "base_uri": "https://localhost:8080/",
     "height": 621
    },
    "id": "ModasR4XTjKW",
    "outputId": "6f07b260-79d1-4ba8-e86a-e40dbbcae885"
   },
   "outputs": [
    {
     "data": {
      "text/plain": [
       "Text(0.5, 1.0, 'Confusion Matrix')"
      ]
     },
     "execution_count": 38,
     "metadata": {},
     "output_type": "execute_result"
    },
    {
     "data": {
      "image/png": "[encoded data removed]",
      "text/plain": [
       "<Figure size 720x720 with 2 Axes>"
      ]
     },
     "metadata": {
      "needs_background": "light"
     },
     "output_type": "display_data"
    }
   ],
   "source": [
    "import seaborn as sns\n",
    "from sklearn.metrics import confusion_matrix\n",
    "\n",
    "conf_mat = sklearn.metrics.confusion_matrix(pred_y_pca, cifar10_test_labels)\n",
    "\n",
    "# init the plot\n",
    "plt.figure(figsize=(10, 10))\n",
    "\n",
    "# plot confusion matrix heatmap\n",
    "sns.heatmap(conf_mat, fmt='d', square=True, annot=True, cmap='Reds', \n",
    "            xticklabels=cifar10_classes, yticklabels=cifar10_classes)\n",
    "\n",
    "# add plot axis labels\n",
    "plt.xlabel('Ground Truth')\n",
    "plt.ylabel('Prediction')\n",
    "\n",
    "# add plot title\n",
    "plt.title('Confusion Matrix')"
   ]
  },
  {
   "cell_type": "code",
   "execution_count": 39,
   "metadata": {
    "colab": {
     "base_uri": "https://localhost:8080/",
     "height": 621
    },
    "id": "CgDF_vzFbWjG",
    "outputId": "7e5573e4-f750-486e-b584-182194834943"
   },
   "outputs": [
    {
     "data": {
      "text/plain": [
       "Text(0.5, 1.0, 'Confusion Matrix')"
      ]
     },
     "execution_count": 39,
     "metadata": {},
     "output_type": "execute_result"
    },
    {
     "data": {
      "image/png": "[encoded data removed]",
      "text/plain": [
       "<Figure size 720x720 with 2 Axes>"
      ]
     },
     "metadata": {
      "needs_background": "light"
     },
     "output_type": "display_data"
    }
   ],
   "source": [
    "# init the plot\n",
    "plt.figure(figsize=(10, 10))\n",
    "\n",
    "# plot confusion matrix heatmap\n",
    "sns.heatmap(conf_mat/np.sum(conf_mat), fmt='.2%', square=True, annot=True, cmap='Reds', \n",
    "            xticklabels=cifar10_classes, yticklabels=cifar10_classes)\n",
    "\n",
    "# add plot axis labels\n",
    "plt.xlabel('Ground Truth')\n",
    "plt.ylabel('Prediction')\n",
    "\n",
    "# add plot title\n",
    "plt.title('Confusion Matrix')"
   ]
  },
  {
   "cell_type": "markdown",
   "metadata": {
    "id": "ahvTTJtG8Ysb"
   },
   "source": [
    "<hr>\n",
    "\n",
    "# 10) Try XGBoosting to further boost performance"
   ]
  },
  {
   "cell_type": "markdown",
   "metadata": {
    "id": "vUMEwtHB9K6l"
   },
   "source": [
    "To further increase the accuracy of our model, the XGBoosting Classifier is tried out with a separate GridSearch:"
   ]
  },
  {
   "cell_type": "code",
   "execution_count": 33,
   "metadata": {
    "id": "YTjFkYzC9KvY"
   },
   "outputs": [],
   "source": [
    "# XGBoosting\n",
    "from xgboost import XGBClassifier\n",
    "\n",
    "estimator = XGBClassifier(\n",
    "    objective= 'binary:logistic',\n",
    "    nthread=4,\n",
    "    seed=42\n",
    ")"
   ]
  },
  {
   "cell_type": "markdown",
   "metadata": {
    "id": "E472I9Fh-G3R"
   },
   "source": [
    "For the separate GridSearch we will use a predefined grid, which finds the optimal values for the hyperparameters Max Depth, N Estimators and learning rate. Please note that this GridSearch was used with more values and ran over several hours to find the best performing parameters down below:"
   ]
  },
  {
   "cell_type": "code",
   "execution_count": 34,
   "metadata": {
    "id": "8dRL16yI-biz"
   },
   "outputs": [],
   "source": [
    "parameters = {\n",
    "    'max_depth': [5,6],\n",
    "    'n_estimators': [90,100],\n",
    "    'learning_rate': [0.1]\n",
    "}"
   ]
  },
  {
   "cell_type": "code",
   "execution_count": 35,
   "metadata": {
    "id": "1k7u8Tce-0nM"
   },
   "outputs": [],
   "source": [
    "grid_search = GridSearchCV(\n",
    "    estimator=estimator,\n",
    "    param_grid=parameters,\n",
    "    scoring = 'roc_auc',\n",
    "    n_jobs = 10,\n",
    "    cv = 2,\n",
    "    verbose=True\n",
    ")"
   ]
  },
  {
   "cell_type": "code",
   "execution_count": null,
   "metadata": {
    "id": "lwYoG1g8-5E3"
   },
   "outputs": [],
   "source": [
    "grid_search.fit(cifar_train_data, cifar10_train_labels)\n",
    "grid_search.best_params_"
   ]
  },
  {
   "cell_type": "markdown",
   "metadata": {
    "id": "ZK0hgTLW-8eH"
   },
   "source": [
    "Running the GridSearch showed that we achieve the best performance with the hyperparameters of Max Depth: 5, N Estimators: 90 and the default learning rate value of 0.1:"
   ]
  },
  {
   "cell_type": "code",
   "execution_count": 37,
   "metadata": {
    "colab": {
     "base_uri": "https://localhost:8080/"
    },
    "collapsed": true,
    "id": "1QHi3Edw_ce6",
    "outputId": "c75ef133-9ac5-4d7f-e616-3df5ba374e84"
   },
   "outputs": [
    {
     "name": "stdout",
     "output_type": "stream",
     "text": [
      "[23:17:07] WARNING: C:/Users/Administrator/workspace/xgboost-win64_release_1.5.1/src/learner.cc:1115: Starting in XGBoost 1.3.0, the default evaluation metric used with the objective 'multi:softprob' was changed from 'merror' to 'mlogloss'. Explicitly set eval_metric if you'd like to restore the old behavior.\n"
     ]
    },
    {
     "ename": "KeyboardInterrupt",
     "evalue": "",
     "output_type": "error",
     "traceback": [
      "\u001b[1;31m---------------------------------------------------------------------------\u001b[0m",
      "\u001b[1;31mKeyboardInterrupt\u001b[0m                         Traceback (most recent call last)",
      "\u001b[1;32m<ipython-input-37-0db80d8b5a81>\u001b[0m in \u001b[0;36m<module>\u001b[1;34m\u001b[0m\n\u001b[0;32m      1\u001b[0m \u001b[0mxgb_model\u001b[0m \u001b[1;33m=\u001b[0m \u001b[0mXGBClassifier\u001b[0m\u001b[1;33m(\u001b[0m\u001b[0mmax_depth\u001b[0m\u001b[1;33m=\u001b[0m\u001b[1;36m5\u001b[0m\u001b[1;33m,\u001b[0m \u001b[0mn_estimators\u001b[0m\u001b[1;33m=\u001b[0m\u001b[1;36m90\u001b[0m\u001b[1;33m)\u001b[0m\u001b[1;33m\u001b[0m\u001b[1;33m\u001b[0m\u001b[0m\n\u001b[1;32m----> 2\u001b[1;33m \u001b[0mxgb_model\u001b[0m\u001b[1;33m.\u001b[0m\u001b[0mfit\u001b[0m\u001b[1;33m(\u001b[0m\u001b[0mcifar_train_data\u001b[0m\u001b[1;33m,\u001b[0m \u001b[0mcifar10_train_labels\u001b[0m\u001b[1;33m)\u001b[0m\u001b[1;33m\u001b[0m\u001b[1;33m\u001b[0m\u001b[0m\n\u001b[0m",
      "\u001b[1;32mC:\\Python38\\lib\\site-packages\\xgboost\\core.py\u001b[0m in \u001b[0;36minner_f\u001b[1;34m(*args, **kwargs)\u001b[0m\n\u001b[0;32m    504\u001b[0m         \u001b[1;32mfor\u001b[0m \u001b[0mk\u001b[0m\u001b[1;33m,\u001b[0m \u001b[0marg\u001b[0m \u001b[1;32min\u001b[0m \u001b[0mzip\u001b[0m\u001b[1;33m(\u001b[0m\u001b[0msig\u001b[0m\u001b[1;33m.\u001b[0m\u001b[0mparameters\u001b[0m\u001b[1;33m,\u001b[0m \u001b[0margs\u001b[0m\u001b[1;33m)\u001b[0m\u001b[1;33m:\u001b[0m\u001b[1;33m\u001b[0m\u001b[1;33m\u001b[0m\u001b[0m\n\u001b[0;32m    505\u001b[0m             \u001b[0mkwargs\u001b[0m\u001b[1;33m[\u001b[0m\u001b[0mk\u001b[0m\u001b[1;33m]\u001b[0m \u001b[1;33m=\u001b[0m \u001b[0marg\u001b[0m\u001b[1;33m\u001b[0m\u001b[1;33m\u001b[0m\u001b[0m\n\u001b[1;32m--> 506\u001b[1;33m         \u001b[1;32mreturn\u001b[0m \u001b[0mf\u001b[0m\u001b[1;33m(\u001b[0m\u001b[1;33m**\u001b[0m\u001b[0mkwargs\u001b[0m\u001b[1;33m)\u001b[0m\u001b[1;33m\u001b[0m\u001b[1;33m\u001b[0m\u001b[0m\n\u001b[0m\u001b[0;32m    507\u001b[0m \u001b[1;33m\u001b[0m\u001b[0m\n\u001b[0;32m    508\u001b[0m     \u001b[1;32mreturn\u001b[0m \u001b[0minner_f\u001b[0m\u001b[1;33m\u001b[0m\u001b[1;33m\u001b[0m\u001b[0m\n",
      "\u001b[1;32mC:\\Python38\\lib\\site-packages\\xgboost\\sklearn.py\u001b[0m in \u001b[0;36mfit\u001b[1;34m(self, X, y, sample_weight, base_margin, eval_set, eval_metric, early_stopping_rounds, verbose, xgb_model, sample_weight_eval_set, base_margin_eval_set, feature_weights, callbacks)\u001b[0m\n\u001b[0;32m   1248\u001b[0m         )\n\u001b[0;32m   1249\u001b[0m \u001b[1;33m\u001b[0m\u001b[0m\n\u001b[1;32m-> 1250\u001b[1;33m         self._Booster = train(\n\u001b[0m\u001b[0;32m   1251\u001b[0m             \u001b[0mparams\u001b[0m\u001b[1;33m,\u001b[0m\u001b[1;33m\u001b[0m\u001b[1;33m\u001b[0m\u001b[0m\n\u001b[0;32m   1252\u001b[0m             \u001b[0mtrain_dmatrix\u001b[0m\u001b[1;33m,\u001b[0m\u001b[1;33m\u001b[0m\u001b[1;33m\u001b[0m\u001b[0m\n",
      "\u001b[1;32mC:\\Python38\\lib\\site-packages\\xgboost\\training.py\u001b[0m in \u001b[0;36mtrain\u001b[1;34m(params, dtrain, num_boost_round, evals, obj, feval, maximize, early_stopping_rounds, evals_result, verbose_eval, xgb_model, callbacks)\u001b[0m\n\u001b[0;32m    186\u001b[0m     \u001b[0mBooster\u001b[0m \u001b[1;33m:\u001b[0m \u001b[0ma\u001b[0m \u001b[0mtrained\u001b[0m \u001b[0mbooster\u001b[0m \u001b[0mmodel\u001b[0m\u001b[1;33m\u001b[0m\u001b[1;33m\u001b[0m\u001b[0m\n\u001b[0;32m    187\u001b[0m     \"\"\"\n\u001b[1;32m--> 188\u001b[1;33m     bst = _train_internal(params, dtrain,\n\u001b[0m\u001b[0;32m    189\u001b[0m                           \u001b[0mnum_boost_round\u001b[0m\u001b[1;33m=\u001b[0m\u001b[0mnum_boost_round\u001b[0m\u001b[1;33m,\u001b[0m\u001b[1;33m\u001b[0m\u001b[1;33m\u001b[0m\u001b[0m\n\u001b[0;32m    190\u001b[0m                           \u001b[0mevals\u001b[0m\u001b[1;33m=\u001b[0m\u001b[0mevals\u001b[0m\u001b[1;33m,\u001b[0m\u001b[1;33m\u001b[0m\u001b[1;33m\u001b[0m\u001b[0m\n",
      "\u001b[1;32mC:\\Python38\\lib\\site-packages\\xgboost\\training.py\u001b[0m in \u001b[0;36m_train_internal\u001b[1;34m(params, dtrain, num_boost_round, evals, obj, feval, xgb_model, callbacks, evals_result, maximize, verbose_eval, early_stopping_rounds)\u001b[0m\n\u001b[0;32m     79\u001b[0m         \u001b[1;32mif\u001b[0m \u001b[0mcallbacks\u001b[0m\u001b[1;33m.\u001b[0m\u001b[0mbefore_iteration\u001b[0m\u001b[1;33m(\u001b[0m\u001b[0mbst\u001b[0m\u001b[1;33m,\u001b[0m \u001b[0mi\u001b[0m\u001b[1;33m,\u001b[0m \u001b[0mdtrain\u001b[0m\u001b[1;33m,\u001b[0m \u001b[0mevals\u001b[0m\u001b[1;33m)\u001b[0m\u001b[1;33m:\u001b[0m\u001b[1;33m\u001b[0m\u001b[1;33m\u001b[0m\u001b[0m\n\u001b[0;32m     80\u001b[0m             \u001b[1;32mbreak\u001b[0m\u001b[1;33m\u001b[0m\u001b[1;33m\u001b[0m\u001b[0m\n\u001b[1;32m---> 81\u001b[1;33m         \u001b[0mbst\u001b[0m\u001b[1;33m.\u001b[0m\u001b[0mupdate\u001b[0m\u001b[1;33m(\u001b[0m\u001b[0mdtrain\u001b[0m\u001b[1;33m,\u001b[0m \u001b[0mi\u001b[0m\u001b[1;33m,\u001b[0m \u001b[0mobj\u001b[0m\u001b[1;33m)\u001b[0m\u001b[1;33m\u001b[0m\u001b[1;33m\u001b[0m\u001b[0m\n\u001b[0m\u001b[0;32m     82\u001b[0m         \u001b[1;32mif\u001b[0m \u001b[0mcallbacks\u001b[0m\u001b[1;33m.\u001b[0m\u001b[0mafter_iteration\u001b[0m\u001b[1;33m(\u001b[0m\u001b[0mbst\u001b[0m\u001b[1;33m,\u001b[0m \u001b[0mi\u001b[0m\u001b[1;33m,\u001b[0m \u001b[0mdtrain\u001b[0m\u001b[1;33m,\u001b[0m \u001b[0mevals\u001b[0m\u001b[1;33m)\u001b[0m\u001b[1;33m:\u001b[0m\u001b[1;33m\u001b[0m\u001b[1;33m\u001b[0m\u001b[0m\n\u001b[0;32m     83\u001b[0m             \u001b[1;32mbreak\u001b[0m\u001b[1;33m\u001b[0m\u001b[1;33m\u001b[0m\u001b[0m\n",
      "\u001b[1;32mC:\\Python38\\lib\\site-packages\\xgboost\\core.py\u001b[0m in \u001b[0;36mupdate\u001b[1;34m(self, dtrain, iteration, fobj)\u001b[0m\n\u001b[0;32m   1678\u001b[0m \u001b[1;33m\u001b[0m\u001b[0m\n\u001b[0;32m   1679\u001b[0m         \u001b[1;32mif\u001b[0m \u001b[0mfobj\u001b[0m \u001b[1;32mis\u001b[0m \u001b[1;32mNone\u001b[0m\u001b[1;33m:\u001b[0m\u001b[1;33m\u001b[0m\u001b[1;33m\u001b[0m\u001b[0m\n\u001b[1;32m-> 1680\u001b[1;33m             _check_call(_LIB.XGBoosterUpdateOneIter(self.handle,\n\u001b[0m\u001b[0;32m   1681\u001b[0m                                                     \u001b[0mctypes\u001b[0m\u001b[1;33m.\u001b[0m\u001b[0mc_int\u001b[0m\u001b[1;33m(\u001b[0m\u001b[0miteration\u001b[0m\u001b[1;33m)\u001b[0m\u001b[1;33m,\u001b[0m\u001b[1;33m\u001b[0m\u001b[1;33m\u001b[0m\u001b[0m\n\u001b[0;32m   1682\u001b[0m                                                     dtrain.handle))\n",
      "\u001b[1;31mKeyboardInterrupt\u001b[0m: "
     ]
    }
   ],
   "source": [
    "xgb_model = XGBClassifier(max_depth=5, n_estimators=90)\n",
    "xgb_model.fit(cifar_train_data, cifar10_train_labels)"
   ]
  },
  {
   "cell_type": "code",
   "execution_count": null,
   "metadata": {
    "colab": {
     "base_uri": "https://localhost:8080/"
    },
    "id": "x67ovwfz_gIh",
    "outputId": "2b65725f-66fd-4051-d7e9-591c888c52a7"
   },
   "outputs": [],
   "source": [
    "xgb_predictions = xgb_model.predict(X_test)\n",
    "\n",
    "print(\"accuracy:\", accuracy_score(xgb_predictions, cifar10_test_labels))"
   ]
  },
  {
   "cell_type": "markdown",
   "metadata": {
    "id": "_BLnv3O9CESr"
   },
   "source": [
    "We see that the accuracy drastically improves (in our test we got 49,27%). Again, with more computing power, we could try every combination possible in the GridSearch and might find hyperparameters that produce an even better accuracy."
   ]
  },
  {
   "cell_type": "markdown",
   "metadata": {
    "id": "YQSV36DTCXyU"
   },
   "source": [
    "<br>\n",
    "\n",
    "# 11) Combine KNN Classifier and XGBoosting Classifier"
   ]
  },
  {
   "cell_type": "markdown",
   "metadata": {
    "id": "MLsM0OzODKha"
   },
   "source": [
    "After creating two models (KNN and XGB), we examine if the accuracy can be improved with Stacking.\n",
    "\n",
    "Stacking can combine ouputs from different models. Thereby it allows us to combine the strengths of both classifiers by feeding the predictions of our two previous models to a final estimator, which will determine the final prediction.\n",
    "\n",
    "The final accuracy will be near the the accuracy of our best performing model, but it can slightly improve the final accuracy."
   ]
  },
  {
   "cell_type": "code",
   "execution_count": null,
   "metadata": {
    "id": "O5LarsqfFZYI"
   },
   "outputs": [],
   "source": [
    "from sklearn.ensemble import StackingClassifier\n",
    "from sklearn.linear_model import LogisticRegression\n",
    "\n",
    "estimator_list = [\n",
    "    ('xgb', XGBClassifier(max_depth=5, n_estimators=90)),\n",
    "     ('knn', KNeighborsClassifier(n_neighbors=9))\n",
    "]\n",
    "\n",
    "clf = StackingClassifier(estimators=estimator_list, final_estimator=LogisticRegression())\n",
    "clf._estimator_type = \"classifier\""
   ]
  },
  {
   "cell_type": "markdown",
   "metadata": {
    "id": "ldKg04HrFdCz"
   },
   "source": [
    "We will use the hyperparameters, which were found the previous GridSearch and arbitrarily choose k=9 even though we could also do an extensive grid search to find the optimal k for KNN without PCA.\n",
    "\n",
    "KNN without PCA:\n",
    "k = 9\n",
    "\n",
    "XGB:\n",
    "Max Depth: 5 / N Estimators: 90"
   ]
  },
  {
   "cell_type": "code",
   "execution_count": null,
   "metadata": {
    "colab": {
     "base_uri": "https://localhost:8080/"
    },
    "id": "7n0ePujoFsPS",
    "outputId": "cb4d66ff-fa32-40fd-a29d-dc06a2bd073e"
   },
   "outputs": [],
   "source": [
    "clf.fit(X_train, cifar10_train_labels)"
   ]
  },
  {
   "cell_type": "code",
   "execution_count": null,
   "metadata": {
    "colab": {
     "base_uri": "https://localhost:8080/"
    },
    "id": "9ha29PR1GTXd",
    "outputId": "db108d95-c0fe-4d4f-bae2-784680753eae"
   },
   "outputs": [],
   "source": [
    "predictions = clf.predict(X_test)\n",
    "\n",
    "accuracy_score(predictions, cifar10_test_labels)"
   ]
  },
  {
   "cell_type": "markdown",
   "metadata": {
    "id": "RN_MHXcAGdiV"
   },
   "source": [
    "When running the code we can see that the accuray improves after using the stacking classifier (in our test we got 51.97%)."
   ]
  }
 ],
 "metadata": {
  "colab": {
   "name": "BBWL-ML-Assignment1",
   "provenance": [],
   "toc_visible": true
  },
  "interpreter": {
   "hash": "8a759edab9623fec557173fc5dc3172aac588fd51e2e191f985f3e24b521fb85"
  },
  "kernelspec": {
   "display_name": "Python 3",
   "language": "python",
   "name": "python3"
  },
  "language_info": {
   "codemirror_mode": {
    "name": "ipython",
    "version": 3
   },
   "file_extension": ".py",
   "mimetype": "text/x-python",
   "name": "python",
   "nbconvert_exporter": "python",
   "pygments_lexer": "ipython3",
   "version": "3.8.5"
  }
 },
 "nbformat": 4,
 "nbformat_minor": 1
}
